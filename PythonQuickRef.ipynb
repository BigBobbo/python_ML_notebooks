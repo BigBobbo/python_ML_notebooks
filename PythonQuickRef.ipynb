{
 "metadata": {
  "name": ""
 },
 "nbformat": 3,
 "nbformat_minor": 0,
 "worksheets": [
  {
   "cells": [
    {
     "cell_type": "heading",
     "level": 2,
     "metadata": {},
     "source": [
      "What is this Notebook?"
     ]
    },
    {
     "cell_type": "markdown",
     "metadata": {},
     "source": [
      "This notebook will be used to store a basic refsheet of python syntax terms that I use often and a brief overview of their uses. It is as much of a test of the newly implimented rendering of Github iPython notebooks as a brushing up of my python syntax."
     ]
    },
    {
     "cell_type": "heading",
     "level": 3,
     "metadata": {},
     "source": [
      "Defining a function"
     ]
    },
    {
     "cell_type": "code",
     "collapsed": false,
     "input": [
      "def double(x):\n",
      "    \"\"\"Here you can put multiple lines of \n",
      "    an optional docstring to explain the \n",
      "    function, eg: Multiplies input by 2\"\"\"\n",
      "    return x * 2"
     ],
     "language": "python",
     "metadata": {},
     "outputs": [],
     "prompt_number": 1
    },
    {
     "cell_type": "markdown",
     "metadata": {},
     "source": [
      "Python functions are <i>first-class</i> meaning they can be assigned to variables and passed into functions just like any other arguement"
     ]
    },
    {
     "cell_type": "code",
     "collapsed": false,
     "input": [
      "def apply_to_one(f):\n",
      "    \"\"\"applies the function f with 1 as its arguement\"\"\"\n",
      "    return f(1)\n",
      "\n",
      "double_test = double \n",
      "apply_to_one(double_test)"
     ],
     "language": "python",
     "metadata": {},
     "outputs": [
      {
       "metadata": {},
       "output_type": "pyout",
       "prompt_number": 2,
       "text": [
        "2"
       ]
      }
     ],
     "prompt_number": 2
    },
    {
     "cell_type": "markdown",
     "metadata": {},
     "source": [
      "Python also can use anonomus functions using lambda"
     ]
    },
    {
     "cell_type": "code",
     "collapsed": false,
     "input": [
      "anon_function = apply_to_one(lambda x: x + 4)"
     ],
     "language": "python",
     "metadata": {},
     "outputs": [],
     "prompt_number": 3
    },
    {
     "cell_type": "markdown",
     "metadata": {},
     "source": [
      "You can also assign lambdas to variables but it is bad practice"
     ]
    },
    {
     "cell_type": "code",
     "collapsed": false,
     "input": [
      "bad_practice = lambda x :2 * x\n",
      "def good_practice(x): return 2 * x"
     ],
     "language": "python",
     "metadata": {},
     "outputs": [],
     "prompt_number": 4
    },
    {
     "cell_type": "markdown",
     "metadata": {},
     "source": [
      "You can give functions default arguments for their parameters. These will only be overwritten when they are otherwise specified"
     ]
    },
    {
     "cell_type": "code",
     "collapsed": false,
     "input": [
      "def my_print(message=\"default hello\"):\n",
      "    print message\n",
      "    \n",
      "my_print(\"hello\") # prints 'hello'\n",
      "my_print()        # prints 'default hello'"
     ],
     "language": "python",
     "metadata": {},
     "outputs": [
      {
       "output_type": "stream",
       "stream": "stdout",
       "text": [
        "hello\n",
        "default hello\n"
       ]
      }
     ],
     "prompt_number": 5
    },
    {
     "cell_type": "markdown",
     "metadata": {},
     "source": [
      "For multiple arguments it can be useful to specify arguements by name"
     ]
    },
    {
     "cell_type": "code",
     "collapsed": false,
     "input": [
      "def subtract(a=0, b=0):\n",
      "    return a - b\n",
      "\n",
      "subtract(10, 5) # returns 5\n",
      "subtract(0, 5)  # returns -5\n",
      "subtract(b=5)   # returns -5"
     ],
     "language": "python",
     "metadata": {},
     "outputs": [],
     "prompt_number": 6
    },
    {
     "cell_type": "heading",
     "level": 3,
     "metadata": {},
     "source": [
      "Exception handling"
     ]
    },
    {
     "cell_type": "markdown",
     "metadata": {},
     "source": [
      "Useful for working with data that you know will cause errors"
     ]
    },
    {
     "cell_type": "code",
     "collapsed": false,
     "input": [
      "try:\n",
      "    print 0/0\n",
      "except:\n",
      "    print \"Error found\""
     ],
     "language": "python",
     "metadata": {},
     "outputs": [
      {
       "output_type": "stream",
       "stream": "stdout",
       "text": [
        "Error found\n"
       ]
      }
     ],
     "prompt_number": 7
    },
    {
     "cell_type": "heading",
     "level": 3,
     "metadata": {},
     "source": [
      "Lists"
     ]
    },
    {
     "cell_type": "markdown",
     "metadata": {},
     "source": [
      "One of the most used data structures in python"
     ]
    },
    {
     "cell_type": "code",
     "collapsed": false,
     "input": [
      "integer_list = [1, 2, 3]\n",
      "hetrogeneous_list = [\"string\", 0.1, True]\n",
      "list_of_lists = [integer_list, hetrogeneous_list, []]\n",
      "\n",
      "list_length = len(integer_list) # returns 3\n",
      "list_sum = sum(integer_list)    # returns 6"
     ],
     "language": "python",
     "metadata": {},
     "outputs": [],
     "prompt_number": 8
    },
    {
     "cell_type": "markdown",
     "metadata": {},
     "source": [
      "Selection of elements in a list"
     ]
    },
    {
     "cell_type": "code",
     "collapsed": false,
     "input": [
      "x = range(10) # zero to nine\n",
      "zero = x[0]\n",
      "one = x[1]\n",
      "nine = [-1] # last element in the list"
     ],
     "language": "python",
     "metadata": {},
     "outputs": []
    },
    {
     "cell_type": "markdown",
     "metadata": {},
     "source": [
      "Slicing of lists"
     ]
    },
    {
     "cell_type": "code",
     "collapsed": false,
     "input": [
      "first_three = x[:3]\n",
      "three_to_end = x[3:]\n",
      "one_to_four = x[1:5]\n",
      "last_three = x[-3:]\n",
      "without_first_and_last = x[1:-1]"
     ],
     "language": "python",
     "metadata": {},
     "outputs": []
    },
    {
     "cell_type": "markdown",
     "metadata": {},
     "source": [
      "Concatenating lists"
     ]
    },
    {
     "cell_type": "code",
     "collapsed": false,
     "input": [
      "x = [1, 2, 3]\n",
      "y = [4, 5, 6] # not in place\n",
      "x.extend([4, 5, 6]) # in place\n",
      "x.append(7) # in place"
     ],
     "language": "python",
     "metadata": {},
     "outputs": []
    },
    {
     "cell_type": "markdown",
     "metadata": {},
     "source": [
      "Unpacking lists is useful when the number of elements is known"
     ]
    },
    {
     "cell_type": "code",
     "collapsed": false,
     "input": [
      "x, y = [1, 2]"
     ],
     "language": "python",
     "metadata": {},
     "outputs": []
    },
    {
     "cell_type": "markdown",
     "metadata": {},
     "source": [
      "If you are not going to use one of the elements an underscore can be used"
     ]
    },
    {
     "cell_type": "code",
     "collapsed": false,
     "input": [
      "_, y = [1, 2]"
     ],
     "language": "python",
     "metadata": {},
     "outputs": []
    },
    {
     "cell_type": "heading",
     "level": 3,
     "metadata": {},
     "source": [
      "Tuples"
     ]
    },
    {
     "cell_type": "markdown",
     "metadata": {},
     "source": [
      "Tuples are immutable lists."
     ]
    },
    {
     "cell_type": "code",
     "collapsed": false,
     "input": [
      "x = (1, 2)"
     ],
     "language": "python",
     "metadata": {},
     "outputs": []
    },
    {
     "cell_type": "heading",
     "level": 3,
     "metadata": {},
     "source": [
      "Dictionaries"
     ]
    },
    {
     "cell_type": "code",
     "collapsed": false,
     "input": [],
     "language": "python",
     "metadata": {},
     "outputs": []
    }
   ],
   "metadata": {}
  }
 ]
}