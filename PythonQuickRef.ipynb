{
 "metadata": {
  "name": ""
 },
 "nbformat": 3,
 "nbformat_minor": 0,
 "worksheets": [
  {
   "cells": [
    {
     "cell_type": "heading",
     "level": 2,
     "metadata": {},
     "source": [
      "What is this page?"
     ]
    },
    {
     "cell_type": "markdown",
     "metadata": {},
     "source": [
      "This page will be used to store a basic cheatsheet of python syntax terms and a brief overview of their uses. It is as much of a test of the newly implimented rendering of Github iPython notebooks as a brushing up of my python syntax."
     ]
    },
    {
     "cell_type": "heading",
     "level": 4,
     "metadata": {},
     "source": [
      "Defining a function"
     ]
    },
    {
     "cell_type": "code",
     "collapsed": false,
     "input": [
      "def double(x):\n",
      "    \"\"\"Here you can put multiple lines of \n",
      "    an optional docstring to explain the \n",
      "    function, eg: Multiplies input by 2\"\"\"\n",
      "    return x * 2"
     ],
     "language": "python",
     "metadata": {},
     "outputs": [],
     "prompt_number": 1
    },
    {
     "cell_type": "markdown",
     "metadata": {},
     "source": [
      "Python functions are <i>first-class</i> meaning they can be assigned to variables and passed into functions just like any other arguement"
     ]
    },
    {
     "cell_type": "code",
     "collapsed": false,
     "input": [
      "def apply_to_one(f):\n",
      "    \"\"\"applies the function f with 1 as its arguement\"\"\"\n",
      "    return f(1)\n",
      "\n",
      "double_test = double \n",
      "apply_to_one(double_test)"
     ],
     "language": "python",
     "metadata": {},
     "outputs": [
      {
       "metadata": {},
       "output_type": "pyout",
       "prompt_number": 2,
       "text": [
        "2"
       ]
      }
     ],
     "prompt_number": 2
    }
   ],
   "metadata": {}
  }
 ]
}